{
 "cells": [
  {
   "cell_type": "markdown",
   "metadata": {},
   "source": [
    "# Python Tasks "
   ]
  },
  {
   "cell_type": "markdown",
   "metadata": {},
   "source": [
    "#### 1. Write an expression that display the type of ‘word’. "
   ]
  },
  {
   "cell_type": "code",
   "execution_count": null,
   "metadata": {},
   "outputs": [],
   "source": [
    "x = \"word\"\n",
    "print(type(x))"
   ]
  },
  {
   "cell_type": "markdown",
   "metadata": {},
   "source": [
    "#### 2. Calculate the sum of 10.8, 12.2 and 0.2, store it in the variable total, and then display total’s value. "
   ]
  },
  {
   "cell_type": "code",
   "execution_count": null,
   "metadata": {},
   "outputs": [],
   "source": [
    "total = 10.8 + 12.2 + 0.2\n",
    "print(total)"
   ]
  },
  {
   "cell_type": "markdown",
   "metadata": {},
   "source": [
    "#### 3. Evaluate the expression 3*(4-5) with and without parentheses. Are the parentheses redundant ? "
   ]
  },
  {
   "cell_type": "code",
   "execution_count": null,
   "metadata": {
    "scrolled": true
   },
   "outputs": [],
   "source": [
    "# the parantheses are important because it changes the output value so it's not redundant \n",
    "x = 3*4-5\n",
    "y = 3*(4-5)\n",
    "print ('X = ', x , '\\nY =', y)"
   ]
  },
  {
   "cell_type": "markdown",
   "metadata": {},
   "source": [
    "#### 4. Evaluate the expression 4**3**2, (4**3) **2 and 4** (3**2).Are any of the parentheses redundant? "
   ]
  },
  {
   "cell_type": "code",
   "execution_count": null,
   "metadata": {},
   "outputs": [],
   "source": [
    "# the parantheses are important because it changes the output value so it's not redundant \n",
    "x = 4**3**2\n",
    "y = (4**3)**2\n",
    "z = 4**(3**2)\n",
    "print ('X =', x , '\\nY =', y,'\\nZ =', z)"
   ]
  },
  {
   "cell_type": "markdown",
   "metadata": {},
   "source": [
    "#### 5. What does the following print statement display? print (‘int (5.2)’, ‘truncates 5.2 to’, int (5.2)) ?"
   ]
  },
  {
   "cell_type": "code",
   "execution_count": 18,
   "metadata": {},
   "outputs": [],
   "source": [
    "# The ans is :  int(5.2) truncates 5.2 to 5"
   ]
  },
  {
   "cell_type": "markdown",
   "metadata": {},
   "source": [
    "#### 6. What displays when you execute the following statement? print(“”” This is a lengthy multiline string containing a few lines \\ of text”””) ?"
   ]
  },
  {
   "cell_type": "code",
   "execution_count": 24,
   "metadata": {},
   "outputs": [],
   "source": [
    "# The ans is :  \"This is a lengthy multiline string containing a few lines \\of text "
   ]
  },
  {
   "cell_type": "markdown",
   "metadata": {},
   "source": [
    "#### 7. Use float to convert ‘6.2’ (a string) to a floating-point value. Multiply that value by 3.3 and show the result. "
   ]
  },
  {
   "cell_type": "code",
   "execution_count": 33,
   "metadata": {},
   "outputs": [
    {
     "name": "stdout",
     "output_type": "stream",
     "text": [
      "type of X is  <class 'str'> \n",
      "type of Y is <class 'float'> \n",
      "value of Y * 3.3  = 20.46\n"
     ]
    }
   ],
   "source": [
    "x = '6.2'\n",
    "y = float(x)\n",
    "z = y * 3.3\n",
    "print ('type of X is ', type(x) , '\\ntype of Y is', type(y),'\\nvalue of Y * 3.3  =', z)"
   ]
  },
  {
   "cell_type": "code",
   "execution_count": null,
   "metadata": {},
   "outputs": [],
   "source": []
  }
 ],
 "metadata": {
  "kernelspec": {
   "display_name": "Python 3",
   "language": "python",
   "name": "python3"
  },
  "language_info": {
   "codemirror_mode": {
    "name": "ipython",
    "version": 3
   },
   "file_extension": ".py",
   "mimetype": "text/x-python",
   "name": "python",
   "nbconvert_exporter": "python",
   "pygments_lexer": "ipython3",
   "version": "3.7.4"
  }
 },
 "nbformat": 4,
 "nbformat_minor": 2
}
